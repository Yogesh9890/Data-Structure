{
 "cells": [
  {
   "cell_type": "code",
   "execution_count": 1,
   "id": "d874bb11",
   "metadata": {},
   "outputs": [
    {
     "data": {
      "text/plain": [
       "109"
      ]
     },
     "execution_count": 1,
     "metadata": {},
     "output_type": "execute_result"
    }
   ],
   "source": [
    "ord('m')"
   ]
  },
  {
   "cell_type": "code",
   "execution_count": 2,
   "id": "de0f20a9",
   "metadata": {},
   "outputs": [],
   "source": [
    "def get_hash(key):\n",
    "    h = 0\n",
    "    for ch in key:\n",
    "        h += ord(ch)\n",
    "    return h%100"
   ]
  },
  {
   "cell_type": "code",
   "execution_count": 3,
   "id": "8cbd3eee",
   "metadata": {},
   "outputs": [
    {
     "data": {
      "text/plain": [
       "23"
      ]
     },
     "execution_count": 3,
     "metadata": {},
     "output_type": "execute_result"
    }
   ],
   "source": [
    "get_hash('march')"
   ]
  },
  {
   "cell_type": "markdown",
   "id": "03ccb693",
   "metadata": {},
   "source": [
    "class HashT:\n",
    "    def __init__(self):\n",
    "        self.max = 100\n",
    "        self.arr = [None for i in range(self.max)]\n",
    "        \n",
    "    def get_hash(self, key):\n",
    "        h = 0\n",
    "        for ch in key:\n",
    "            h += ord(ch)\n",
    "        return h % self.max\n",
    "    \n",
    "    def add(self, key, val):\n",
    "        h = self.get_hash(key)\n",
    "        self.arr[h] = val\n",
    "        \n",
    "    def get(self, key):\n",
    "        h = self.get_hash(key)\n",
    "        return self.arr[h]"
   ]
  },
  {
   "cell_type": "code",
   "execution_count": 4,
   "id": "f1689281",
   "metadata": {},
   "outputs": [],
   "source": [
    "class HashT:\n",
    "    def __init__(self):\n",
    "        self.max = 100\n",
    "        self.arr = [None for i in range(self.max)]\n",
    "        \n",
    "    def get_hash(self, key):\n",
    "        h = 0\n",
    "        for ch in key:\n",
    "            h += ord(ch)\n",
    "        return h % self.max\n",
    "    \n",
    "    def __setitem__(self, key, val):\n",
    "        h = self.get_hash(key)\n",
    "        self.arr[h] = val\n",
    "        \n",
    "    def __getitem__(self, key):\n",
    "        h = self.get_hash(key)\n",
    "        return self.arr[h]\n",
    "    \n",
    "    def __delitem__(self, key):\n",
    "        h = self.get_hash(key)\n",
    "        self.arr[h] = None"
   ]
  },
  {
   "cell_type": "code",
   "execution_count": 5,
   "id": "df9f3225",
   "metadata": {},
   "outputs": [
    {
     "data": {
      "text/plain": [
       "77"
      ]
     },
     "execution_count": 5,
     "metadata": {},
     "output_type": "execute_result"
    }
   ],
   "source": [
    "ha = HashT()\n",
    "ha.get_hash('March 6')"
   ]
  },
  {
   "cell_type": "code",
   "execution_count": 6,
   "id": "9a17caaa",
   "metadata": {},
   "outputs": [],
   "source": [
    "ha['march 6']= 9999\n",
    "ha['march 10']= 9998.6\n",
    "ha['dec 16']= 10999"
   ]
  },
  {
   "cell_type": "code",
   "execution_count": 7,
   "id": "37fef178",
   "metadata": {},
   "outputs": [
    {
     "data": {
      "text/plain": [
       "9998.6"
      ]
     },
     "execution_count": 7,
     "metadata": {},
     "output_type": "execute_result"
    }
   ],
   "source": [
    "ha['march 10']"
   ]
  },
  {
   "cell_type": "code",
   "execution_count": 8,
   "id": "6a8aad5b",
   "metadata": {},
   "outputs": [],
   "source": [
    "del ha['march 6']"
   ]
  },
  {
   "cell_type": "code",
   "execution_count": 9,
   "id": "b7a007f3",
   "metadata": {
    "scrolled": true
   },
   "outputs": [
    {
     "data": {
      "text/plain": [
       "[None,\n",
       " None,\n",
       " None,\n",
       " None,\n",
       " None,\n",
       " None,\n",
       " None,\n",
       " None,\n",
       " None,\n",
       " None,\n",
       " None,\n",
       " None,\n",
       " None,\n",
       " None,\n",
       " None,\n",
       " None,\n",
       " None,\n",
       " None,\n",
       " None,\n",
       " None,\n",
       " None,\n",
       " None,\n",
       " None,\n",
       " None,\n",
       " None,\n",
       " None,\n",
       " None,\n",
       " None,\n",
       " None,\n",
       " None,\n",
       " None,\n",
       " None,\n",
       " None,\n",
       " None,\n",
       " None,\n",
       " 10999,\n",
       " None,\n",
       " None,\n",
       " None,\n",
       " None,\n",
       " None,\n",
       " None,\n",
       " None,\n",
       " None,\n",
       " None,\n",
       " None,\n",
       " None,\n",
       " None,\n",
       " None,\n",
       " None,\n",
       " None,\n",
       " None,\n",
       " 9998.6,\n",
       " None,\n",
       " None,\n",
       " None,\n",
       " None,\n",
       " None,\n",
       " None,\n",
       " None,\n",
       " None,\n",
       " None,\n",
       " None,\n",
       " None,\n",
       " None,\n",
       " None,\n",
       " None,\n",
       " None,\n",
       " None,\n",
       " None,\n",
       " None,\n",
       " None,\n",
       " None,\n",
       " None,\n",
       " None,\n",
       " None,\n",
       " None,\n",
       " None,\n",
       " None,\n",
       " None,\n",
       " None,\n",
       " None,\n",
       " None,\n",
       " None,\n",
       " None,\n",
       " None,\n",
       " None,\n",
       " None,\n",
       " None,\n",
       " None,\n",
       " None,\n",
       " None,\n",
       " None,\n",
       " None,\n",
       " None,\n",
       " None,\n",
       " None,\n",
       " None,\n",
       " None,\n",
       " None]"
      ]
     },
     "execution_count": 9,
     "metadata": {},
     "output_type": "execute_result"
    }
   ],
   "source": [
    "ha.arr"
   ]
  },
  {
   "cell_type": "code",
   "execution_count": 21,
   "id": "1a22452a",
   "metadata": {},
   "outputs": [],
   "source": [
    "class HashTable:\n",
    "    def __init__(self):\n",
    "        self.max = 10\n",
    "        self.arr = [[] for i in range(self.max)]\n",
    "        \n",
    "    def get_hash(self, key):\n",
    "        hash = 0\n",
    "        for ch in key:\n",
    "            hash += ord(ch)\n",
    "        return hash % self.max\n",
    "    \n",
    "    def __getitem__(self, key):\n",
    "        arr_index = self.get_hash(key)\n",
    "        for kv in self.arr[arr_index]:\n",
    "            if kv[0] == key:\n",
    "                return kv[1]\n",
    "    \n",
    "    def __setitem__(self, key, val):\n",
    "        h = self.get_hash(key)\n",
    "        found = False\n",
    "        for idx, element in enumerate(self.arr[h]):\n",
    "            if len(element)==2 and element[0]==key:\n",
    "                self.arr[h][idx] = (key,val)\n",
    "                found = True\n",
    "        if not found:\n",
    "            self.arr[h].append((key,val))        \n",
    "                \n",
    "    def __delitem__(self, key):\n",
    "        h = self.get_hash(key)\n",
    "        for index, kv in enumerate(self.arr[h]):\n",
    "            if kv[0] == key:\n",
    "                print(\"del\",index)\n",
    "                del self.arr[h][index]\n",
    "    "
   ]
  },
  {
   "cell_type": "code",
   "execution_count": 22,
   "id": "75a5085e",
   "metadata": {},
   "outputs": [],
   "source": [
    "ht = HashTable()"
   ]
  },
  {
   "cell_type": "code",
   "execution_count": 23,
   "id": "0c0ed993",
   "metadata": {},
   "outputs": [],
   "source": [
    "ht[\"march 6\"] = 152\n",
    "ht[\"march 6\"] = 200\n",
    "ht['march 8'] = 250\n",
    "ht['march 15'] = 50\n",
    "ht['march 17'] = 163\n",
    "ht['march 30'] = 120"
   ]
  },
  {
   "cell_type": "code",
   "execution_count": 24,
   "id": "31a6c58c",
   "metadata": {},
   "outputs": [
    {
     "data": {
      "text/plain": [
       "200"
      ]
     },
     "execution_count": 24,
     "metadata": {},
     "output_type": "execute_result"
    }
   ],
   "source": [
    "ht[\"march 6\"]"
   ]
  },
  {
   "cell_type": "code",
   "execution_count": 25,
   "id": "a5502244",
   "metadata": {},
   "outputs": [
    {
     "data": {
      "text/plain": [
       "[[],\n",
       " [('march 8', 250)],\n",
       " [],\n",
       " [],\n",
       " [('march 30', 120)],\n",
       " [],\n",
       " [],\n",
       " [('march 15', 50)],\n",
       " [],\n",
       " [('march 6', 200), ('march 17', 163)]]"
      ]
     },
     "execution_count": 25,
     "metadata": {},
     "output_type": "execute_result"
    }
   ],
   "source": [
    "ht.arr"
   ]
  },
  {
   "cell_type": "code",
   "execution_count": 26,
   "id": "8c630f2d",
   "metadata": {},
   "outputs": [
    {
     "data": {
      "text/plain": [
       "163"
      ]
     },
     "execution_count": 26,
     "metadata": {},
     "output_type": "execute_result"
    }
   ],
   "source": [
    "ht[\"march 17\"]"
   ]
  },
  {
   "cell_type": "code",
   "execution_count": 27,
   "id": "d9c9bf17",
   "metadata": {},
   "outputs": [
    {
     "name": "stdout",
     "output_type": "stream",
     "text": [
      "del 1\n"
     ]
    }
   ],
   "source": [
    "del ht[\"march 17\"]"
   ]
  },
  {
   "cell_type": "code",
   "execution_count": null,
   "id": "346c2339",
   "metadata": {},
   "outputs": [],
   "source": []
  }
 ],
 "metadata": {
  "kernelspec": {
   "display_name": "Python 3.9.5 64-bit",
   "language": "python",
   "name": "python395jvsc74a57bd0916dbcbb3f70747c44a77c7bcd40155683ae19c65e1c03b4aa3499c5328201f1"
  },
  "language_info": {
   "codemirror_mode": {
    "name": "ipython",
    "version": 3
   },
   "file_extension": ".py",
   "mimetype": "text/x-python",
   "name": "python",
   "nbconvert_exporter": "python",
   "pygments_lexer": "ipython3",
   "version": "3.9.5"
  }
 },
 "nbformat": 4,
 "nbformat_minor": 5
}
